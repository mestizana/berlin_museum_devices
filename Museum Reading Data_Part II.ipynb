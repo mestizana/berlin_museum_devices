{
 "cells": [
  {
   "cell_type": "code",
   "execution_count": 1,
   "id": "93204640",
   "metadata": {},
   "outputs": [],
   "source": [
    "import pandas as pd\n",
    "import plotly.express as px\n",
    "import matplotlib.pyplot as plt\n",
    "import seaborn as sns\n",
    "import imageio\n",
    "import os\n",
    "import plotly.io as pio\n",
    "from plotly.subplots import make_subplots\n",
    "import numpy as np\n",
    "import plotly.graph_objects as go"
   ]
  },
  {
   "cell_type": "code",
   "execution_count": 2,
   "id": "ed921f02",
   "metadata": {},
   "outputs": [],
   "source": [
    "dhm_df = pd.read_csv('./DHM_new.csv')"
   ]
  },
  {
   "cell_type": "code",
   "execution_count": 3,
   "id": "3e76571a",
   "metadata": {},
   "outputs": [
    {
     "data": {
      "text/html": [
       "<div>\n",
       "<style scoped>\n",
       "    .dataframe tbody tr th:only-of-type {\n",
       "        vertical-align: middle;\n",
       "    }\n",
       "\n",
       "    .dataframe tbody tr th {\n",
       "        vertical-align: top;\n",
       "    }\n",
       "\n",
       "    .dataframe thead th {\n",
       "        text-align: right;\n",
       "    }\n",
       "</style>\n",
       "<table border=\"1\" class=\"dataframe\">\n",
       "  <thead>\n",
       "    <tr style=\"text-align: right;\">\n",
       "      <th></th>\n",
       "      <th>Gender</th>\n",
       "      <th>Age Group</th>\n",
       "      <th>Reading Info/seconds</th>\n",
       "      <th>Device Usage/seconds</th>\n",
       "    </tr>\n",
       "  </thead>\n",
       "  <tbody>\n",
       "    <tr>\n",
       "      <th>0</th>\n",
       "      <td>Female</td>\n",
       "      <td>61+</td>\n",
       "      <td>250</td>\n",
       "      <td>1054</td>\n",
       "    </tr>\n",
       "    <tr>\n",
       "      <th>1</th>\n",
       "      <td>Male</td>\n",
       "      <td>18-30</td>\n",
       "      <td>149</td>\n",
       "      <td>1203</td>\n",
       "    </tr>\n",
       "    <tr>\n",
       "      <th>2</th>\n",
       "      <td>Female</td>\n",
       "      <td>18-30</td>\n",
       "      <td>257</td>\n",
       "      <td>135</td>\n",
       "    </tr>\n",
       "    <tr>\n",
       "      <th>3</th>\n",
       "      <td>Female</td>\n",
       "      <td>31-45</td>\n",
       "      <td>265</td>\n",
       "      <td>538</td>\n",
       "    </tr>\n",
       "    <tr>\n",
       "      <th>4</th>\n",
       "      <td>Male</td>\n",
       "      <td>31-45</td>\n",
       "      <td>283</td>\n",
       "      <td>1787</td>\n",
       "    </tr>\n",
       "    <tr>\n",
       "      <th>...</th>\n",
       "      <td>...</td>\n",
       "      <td>...</td>\n",
       "      <td>...</td>\n",
       "      <td>...</td>\n",
       "    </tr>\n",
       "    <tr>\n",
       "      <th>245</th>\n",
       "      <td>Female</td>\n",
       "      <td>18-30</td>\n",
       "      <td>205</td>\n",
       "      <td>623</td>\n",
       "    </tr>\n",
       "    <tr>\n",
       "      <th>246</th>\n",
       "      <td>Female</td>\n",
       "      <td>61+</td>\n",
       "      <td>116</td>\n",
       "      <td>1724</td>\n",
       "    </tr>\n",
       "    <tr>\n",
       "      <th>247</th>\n",
       "      <td>Female</td>\n",
       "      <td>61+</td>\n",
       "      <td>66</td>\n",
       "      <td>844</td>\n",
       "    </tr>\n",
       "    <tr>\n",
       "      <th>248</th>\n",
       "      <td>Female</td>\n",
       "      <td>18-30</td>\n",
       "      <td>179</td>\n",
       "      <td>1018</td>\n",
       "    </tr>\n",
       "    <tr>\n",
       "      <th>249</th>\n",
       "      <td>Male</td>\n",
       "      <td>61+</td>\n",
       "      <td>247</td>\n",
       "      <td>1066</td>\n",
       "    </tr>\n",
       "  </tbody>\n",
       "</table>\n",
       "<p>250 rows × 4 columns</p>\n",
       "</div>"
      ],
      "text/plain": [
       "     Gender Age Group  Reading Info/seconds  Device Usage/seconds\n",
       "0    Female       61+                   250                  1054\n",
       "1      Male     18-30                   149                  1203\n",
       "2    Female     18-30                   257                   135\n",
       "3    Female     31-45                   265                   538\n",
       "4      Male     31-45                   283                  1787\n",
       "..      ...       ...                   ...                   ...\n",
       "245  Female     18-30                   205                   623\n",
       "246  Female       61+                   116                  1724\n",
       "247  Female       61+                    66                   844\n",
       "248  Female     18-30                   179                  1018\n",
       "249    Male       61+                   247                  1066\n",
       "\n",
       "[250 rows x 4 columns]"
      ]
     },
     "execution_count": 3,
     "metadata": {},
     "output_type": "execute_result"
    }
   ],
   "source": [
    "dhm_df"
   ]
  },
  {
   "cell_type": "code",
   "execution_count": 4,
   "id": "5494b238",
   "metadata": {},
   "outputs": [
    {
     "name": "stdout",
     "output_type": "stream",
     "text": [
      "<class 'pandas.core.frame.DataFrame'>\n",
      "RangeIndex: 250 entries, 0 to 249\n",
      "Data columns (total 4 columns):\n",
      " #   Column                Non-Null Count  Dtype \n",
      "---  ------                --------------  ----- \n",
      " 0   Gender                250 non-null    object\n",
      " 1   Age Group             250 non-null    object\n",
      " 2   Reading Info/seconds  250 non-null    int64 \n",
      " 3   Device Usage/seconds  250 non-null    int64 \n",
      "dtypes: int64(2), object(2)\n",
      "memory usage: 7.9+ KB\n"
     ]
    }
   ],
   "source": [
    "dhm_df.info()"
   ]
  },
  {
   "cell_type": "code",
   "execution_count": 5,
   "id": "3b82163c",
   "metadata": {},
   "outputs": [],
   "source": [
    "age_groups = ['+61', '18-30', '31-45', '46-60']\n",
    "filtered_df = dhm_df[dhm_df['Age Group'].isin(age_groups)]"
   ]
  },
  {
   "cell_type": "code",
   "execution_count": 6,
   "id": "a0f13f56",
   "metadata": {},
   "outputs": [],
   "source": [
    "fig = px.bar(\n",
    "    filtered_df,\n",
    "    x='Age Group',\n",
    "    y='Device Usage/seconds',\n",
    "    color='Gender',\n",
    "    barmode='group',\n",
    "    title='Accumulative of Device Usage in Seconds for Different Age Groups'\n",
    ")\n",
    "\n",
    "fig.show(renderer = 'browser')"
   ]
  },
  {
   "cell_type": "code",
   "execution_count": 7,
   "id": "54a62b7f",
   "metadata": {},
   "outputs": [],
   "source": [
    "futurium_df = pd.read_csv('./Futurium_new.csv')"
   ]
  },
  {
   "cell_type": "code",
   "execution_count": 8,
   "id": "ebb86f0d",
   "metadata": {},
   "outputs": [
    {
     "data": {
      "text/html": [
       "<div>\n",
       "<style scoped>\n",
       "    .dataframe tbody tr th:only-of-type {\n",
       "        vertical-align: middle;\n",
       "    }\n",
       "\n",
       "    .dataframe tbody tr th {\n",
       "        vertical-align: top;\n",
       "    }\n",
       "\n",
       "    .dataframe thead th {\n",
       "        text-align: right;\n",
       "    }\n",
       "</style>\n",
       "<table border=\"1\" class=\"dataframe\">\n",
       "  <thead>\n",
       "    <tr style=\"text-align: right;\">\n",
       "      <th></th>\n",
       "      <th>Gender</th>\n",
       "      <th>Age Group</th>\n",
       "      <th>Wristband</th>\n",
       "      <th>Reading Info/seconds</th>\n",
       "      <th>Device Usage/seconds</th>\n",
       "    </tr>\n",
       "  </thead>\n",
       "  <tbody>\n",
       "    <tr>\n",
       "      <th>0</th>\n",
       "      <td>Male</td>\n",
       "      <td>31-45</td>\n",
       "      <td>No</td>\n",
       "      <td>183</td>\n",
       "      <td>843</td>\n",
       "    </tr>\n",
       "    <tr>\n",
       "      <th>1</th>\n",
       "      <td>Male</td>\n",
       "      <td>61+</td>\n",
       "      <td>Yes</td>\n",
       "      <td>118</td>\n",
       "      <td>692</td>\n",
       "    </tr>\n",
       "    <tr>\n",
       "      <th>2</th>\n",
       "      <td>Female</td>\n",
       "      <td>31-45</td>\n",
       "      <td>Yes</td>\n",
       "      <td>197</td>\n",
       "      <td>515</td>\n",
       "    </tr>\n",
       "    <tr>\n",
       "      <th>3</th>\n",
       "      <td>Male</td>\n",
       "      <td>18-30</td>\n",
       "      <td>Yes</td>\n",
       "      <td>201</td>\n",
       "      <td>1141</td>\n",
       "    </tr>\n",
       "    <tr>\n",
       "      <th>4</th>\n",
       "      <td>Male</td>\n",
       "      <td>46-60</td>\n",
       "      <td>Yes</td>\n",
       "      <td>90</td>\n",
       "      <td>367</td>\n",
       "    </tr>\n",
       "    <tr>\n",
       "      <th>...</th>\n",
       "      <td>...</td>\n",
       "      <td>...</td>\n",
       "      <td>...</td>\n",
       "      <td>...</td>\n",
       "      <td>...</td>\n",
       "    </tr>\n",
       "    <tr>\n",
       "      <th>244</th>\n",
       "      <td>Female</td>\n",
       "      <td>18-30</td>\n",
       "      <td>No</td>\n",
       "      <td>129</td>\n",
       "      <td>321</td>\n",
       "    </tr>\n",
       "    <tr>\n",
       "      <th>245</th>\n",
       "      <td>Female</td>\n",
       "      <td>18-30</td>\n",
       "      <td>Yes</td>\n",
       "      <td>93</td>\n",
       "      <td>867</td>\n",
       "    </tr>\n",
       "    <tr>\n",
       "      <th>246</th>\n",
       "      <td>Male</td>\n",
       "      <td>31-45</td>\n",
       "      <td>Yes</td>\n",
       "      <td>239</td>\n",
       "      <td>262</td>\n",
       "    </tr>\n",
       "    <tr>\n",
       "      <th>247</th>\n",
       "      <td>Female</td>\n",
       "      <td>46-60</td>\n",
       "      <td>Yes</td>\n",
       "      <td>161</td>\n",
       "      <td>479</td>\n",
       "    </tr>\n",
       "    <tr>\n",
       "      <th>248</th>\n",
       "      <td>Female</td>\n",
       "      <td>31-45</td>\n",
       "      <td>Yes</td>\n",
       "      <td>167</td>\n",
       "      <td>868</td>\n",
       "    </tr>\n",
       "  </tbody>\n",
       "</table>\n",
       "<p>249 rows × 5 columns</p>\n",
       "</div>"
      ],
      "text/plain": [
       "     Gender Age Group Wristband  Reading Info/seconds  Device Usage/seconds\n",
       "0      Male     31-45        No                   183                   843\n",
       "1      Male       61+       Yes                   118                   692\n",
       "2    Female     31-45       Yes                   197                   515\n",
       "3      Male     18-30       Yes                   201                  1141\n",
       "4      Male     46-60       Yes                    90                   367\n",
       "..      ...       ...       ...                   ...                   ...\n",
       "244  Female     18-30        No                   129                   321\n",
       "245  Female     18-30       Yes                    93                   867\n",
       "246    Male     31-45       Yes                   239                   262\n",
       "247  Female     46-60       Yes                   161                   479\n",
       "248  Female     31-45       Yes                   167                   868\n",
       "\n",
       "[249 rows x 5 columns]"
      ]
     },
     "execution_count": 8,
     "metadata": {},
     "output_type": "execute_result"
    }
   ],
   "source": [
    "futurium_df"
   ]
  },
  {
   "cell_type": "code",
   "execution_count": 9,
   "id": "e433846d",
   "metadata": {},
   "outputs": [
    {
     "name": "stdout",
     "output_type": "stream",
     "text": [
      "<class 'pandas.core.frame.DataFrame'>\n",
      "RangeIndex: 249 entries, 0 to 248\n",
      "Data columns (total 5 columns):\n",
      " #   Column                Non-Null Count  Dtype \n",
      "---  ------                --------------  ----- \n",
      " 0   Gender                249 non-null    object\n",
      " 1   Age Group             249 non-null    object\n",
      " 2   Wristband             249 non-null    object\n",
      " 3   Reading Info/seconds  249 non-null    int64 \n",
      " 4   Device Usage/seconds  249 non-null    int64 \n",
      "dtypes: int64(2), object(3)\n",
      "memory usage: 9.9+ KB\n"
     ]
    }
   ],
   "source": [
    "futurium_df.info()"
   ]
  },
  {
   "cell_type": "code",
   "execution_count": 10,
   "id": "627a3175",
   "metadata": {},
   "outputs": [],
   "source": [
    "age_groups = ['+61', '18-30', '31-45', '46-60']\n",
    "filtered_df2 = futurium_df[futurium_df['Age Group'].isin(age_groups)]"
   ]
  },
  {
   "cell_type": "code",
   "execution_count": 11,
   "id": "00916683",
   "metadata": {},
   "outputs": [],
   "source": [
    "fig = px.bar(\n",
    "    filtered_df2,\n",
    "    x='Age Group',\n",
    "    y='Device Usage/seconds',\n",
    "    color='Gender',\n",
    "    barmode='group',\n",
    "    title='Accumulative of Device Usage in Seconds for Different Age Groups'\n",
    ")\n",
    "\n",
    "fig.show(renderer = 'browser')"
   ]
  },
  {
   "cell_type": "code",
   "execution_count": 12,
   "id": "c74f68f5",
   "metadata": {},
   "outputs": [],
   "source": [
    "color_map = {\n",
    "    'Male': 'green',\n",
    "    'Female': 'brown'\n",
    "}"
   ]
  },
  {
   "cell_type": "code",
   "execution_count": 13,
   "id": "6df9bdb3",
   "metadata": {},
   "outputs": [],
   "source": [
    "fig = px.histogram(\n",
    "    filtered_df,\n",
    "    x='Reading Info/seconds',\n",
    "    y= 'Age Group',\n",
    "    color='Gender',\n",
    "    title='Accumulative of Seconds Taken to Read Information for Different Age Groups',\n",
    "    color_discrete_map=color_map\n",
    ")\n",
    "\n",
    "fig.show(renderer = 'browser')"
   ]
  },
  {
   "cell_type": "code",
   "execution_count": 14,
   "id": "0bb9c934",
   "metadata": {},
   "outputs": [],
   "source": [
    "fig = px.histogram(\n",
    "    filtered_df2,\n",
    "    x='Reading Info/seconds',\n",
    "    y= 'Age Group',\n",
    "    color='Gender',\n",
    "    title='Accumulative of Seconds Taken to Read Information for Different Age Groups',\n",
    "    color_discrete_map=color_map\n",
    ")\n",
    "\n",
    "fig.show(renderer = 'browser')"
   ]
  },
  {
   "cell_type": "code",
   "execution_count": 15,
   "id": "70a7deab",
   "metadata": {},
   "outputs": [],
   "source": [
    "fig = px.bar(\n",
    "    futurium_df,\n",
    "    x='Wristband',\n",
    "    title='Count of People Wearing Wristbands',\n",
    "    labels={'Wristband': 'Wristband Status', 'count': 'Count'},\n",
    "    color_discrete_sequence=['green', 'red']  # Custom colors for 'Yes' and 'No'\n",
    ")\n",
    "\n",
    "fig.show(renderer = 'browser')"
   ]
  },
  {
   "cell_type": "code",
   "execution_count": 16,
   "id": "726d1bdf",
   "metadata": {},
   "outputs": [],
   "source": [
    "#futurium_df['Wristband'] = futurium_df['Wristband'].apply(lambda x: 1 if x == 'Yes' else 0)"
   ]
  },
  {
   "cell_type": "code",
   "execution_count": 17,
   "id": "6a519b25",
   "metadata": {},
   "outputs": [],
   "source": [
    "pivot_df = futurium_df.pivot_table(index='Age Group', columns='Wristband', values='Gender', aggfunc='count', fill_value=0)"
   ]
  },
  {
   "cell_type": "code",
   "execution_count": 18,
   "id": "e1350611",
   "metadata": {},
   "outputs": [],
   "source": [
    "\n",
    "fig = px.imshow(\n",
    "    pivot_df,\n",
    "    color_continuous_scale='Viridis', \n",
    "    x=['No', 'Yes'],  \n",
    "    y=pivot_df.index,  \n",
    "    title='Correlation between Wristband and Age Group'\n",
    ")\n",
    "\n",
    "\n",
    "fig.show(renderer = 'browser')"
   ]
  },
  {
   "cell_type": "code",
   "execution_count": 25,
   "id": "9871497a",
   "metadata": {},
   "outputs": [],
   "source": [
    "fig = px.bar(\n",
    "    futurium_df,\n",
    "    x='Wristband',\n",
    "    y='Reading Info/seconds',\n",
    "    color='Wristband',\n",
    "    title='Seconds of People Reading the Information by Wristband Status',\n",
    "    labels={'Wristband': 'Wristband Status', 'Reading Info/seconds': 'Reading Info/seconds'},\n",
    "    color_discrete_sequence=['green', 'purple']  \n",
    ")\n",
    "\n",
    "fig.show(renderer = 'browser')"
   ]
  },
  {
   "cell_type": "code",
   "execution_count": 26,
   "id": "13b7cb78",
   "metadata": {},
   "outputs": [],
   "source": [
    "fig = px.bar(\n",
    "    futurium_df,\n",
    "    x='Wristband',\n",
    "    y='Device Usage/seconds',\n",
    "    color='Wristband',\n",
    "    title='Seconds of People Using the Device by Wristband Status',\n",
    "    labels={'Wristband': 'Wristband Status', 'Device Usage/seconds': 'Device Usage/seconds'},\n",
    "    color_discrete_sequence=['black', 'blue']  \n",
    ")\n",
    "\n",
    "fig.show(renderer = 'browser')"
   ]
  },
  {
   "cell_type": "code",
   "execution_count": 23,
   "id": "04e6a347",
   "metadata": {},
   "outputs": [],
   "source": [
    "fig = px.bar(\n",
    "    futurium_df,\n",
    "    x='Wristband',\n",
    "    color='Gender',\n",
    "    title='Wristband Distribution by Gender',\n",
    "    labels={'Wristband': 'Wristband Status', 'count': 'Count'},\n",
    "    color_discrete_sequence=['blue', 'grey'],  \n",
    "    category_orders={\"Wristband\": [\"No\", \"Yes\"]}  \n",
    ")\n",
    "\n",
    "fig.show(renderer = 'browser')"
   ]
  },
  {
   "cell_type": "code",
   "execution_count": null,
   "id": "76a79ce4",
   "metadata": {},
   "outputs": [],
   "source": []
  }
 ],
 "metadata": {
  "kernelspec": {
   "display_name": "Python 3 (ipykernel)",
   "language": "python",
   "name": "python3"
  },
  "language_info": {
   "codemirror_mode": {
    "name": "ipython",
    "version": 3
   },
   "file_extension": ".py",
   "mimetype": "text/x-python",
   "name": "python",
   "nbconvert_exporter": "python",
   "pygments_lexer": "ipython3",
   "version": "3.10.9"
  }
 },
 "nbformat": 4,
 "nbformat_minor": 5
}
